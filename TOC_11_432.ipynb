{
  "nbformat": 4,
  "nbformat_minor": 0,
  "metadata": {
    "colab": {
      "provenance": [],
      "mount_file_id": "1_d9tQGMueLZBRWLHYQHDvM0CBQytTMPB",
      "authorship_tag": "ABX9TyP0KnlmRz/q2G6M3kKAJwnF",
      "include_colab_link": true
    },
    "kernelspec": {
      "name": "python3",
      "display_name": "Python 3"
    },
    "language_info": {
      "name": "python"
    }
  },
  "cells": [
    {
      "cell_type": "markdown",
      "metadata": {
        "id": "view-in-github",
        "colab_type": "text"
      },
      "source": [
        "<a href=\"https://colab.research.google.com/github/TonyOC14/Actividad-11/blob/main/TOC_11_432.ipynb\" target=\"_parent\"><img src=\"https://colab.research.google.com/assets/colab-badge.svg\" alt=\"Open In Colab\"/></a>"
      ]
    },
    {
      "cell_type": "code",
      "source": [
        "import random\n",
        "from IPython.display import clear_output\n",
        "import time\n",
        "import pprint\n",
        "import pandas as pd\n",
        "import operator\n",
        "import sys\n",
        "import os\n",
        "import re"
      ],
      "metadata": {
        "id": "tloGA_PK7asJ"
      },
      "execution_count": null,
      "outputs": []
    },
    {
      "cell_type": "markdown",
      "source": [
        "MENU\n",
        "\n",
        "1.- Agregar (automatico 10)\n",
        "\n",
        "2.- Eliminar {ID}\n",
        "\n",
        "3.- Imprimir lista ( tabla)\n",
        "\n",
        "4.- Buscar {ID}\n",
        "\n",
        "5.- Buscar {appat} todas las coincidencias\n",
        "\n",
        "6.- Ordenar {ID}\n",
        "\n",
        "7.- Generar archivo {ID} (preguntar nombre del archivo)\n",
        "\n",
        "  a) excel\n",
        "\n",
        "  b) txt\n",
        "\n",
        "  c) cvs\n",
        "\n",
        "  d) MarkDown\n",
        "\n",
        "8.- Cargar archivo {ID}\n",
        "\n",
        "9.- Imprimir archivo {ID}\n",
        "\n",
        "10.- Borrar Toda la lista {ID}\n",
        "\n",
        "0.- SALIR\n",
        "\n",
        "\n",
        "NOTA: Los datos del diccionario son los Datos básicos de un trabajador de una fabrica.\n",
        "\n",
        "\n",
        "\n",
        "NOTA 2: VALIDAR EL PROGRAMA 100%\n",
        "\n",
        "Preguntar siempre si esta seguro eliminar, No ordenar si ya esta Ordenado, decir si lista vacía, no existe o mostrar si estala búsqueda, No se permiten ID repetidos"
      ],
      "metadata": {
        "id": "I7b-PnJH7ktg"
      }
    },
    {
      "cell_type": "code",
      "source": [
        "# INSTALAR  pyyaml\n",
        "!pip install pyyaml"
      ],
      "metadata": {
        "id": "nYfamD4S7l8W",
        "colab": {
          "base_uri": "https://localhost:8080/"
        },
        "outputId": "65b67dfe-7520-480d-ecb3-a6e73c539a52"
      },
      "execution_count": null,
      "outputs": [
        {
          "output_type": "stream",
          "name": "stdout",
          "text": [
            "Requirement already satisfied: pyyaml in /usr/local/lib/python3.10/dist-packages (6.0.1)\n"
          ]
        }
      ]
    },
    {
      "cell_type": "code",
      "source": [
        "# MONTAR DRIVE DE GOOGLE\n",
        "from google.colab import drive\n",
        "drive.mount('/content/drive')"
      ],
      "metadata": {
        "colab": {
          "base_uri": "https://localhost:8080/"
        },
        "id": "y2nu80K7WHqA",
        "outputId": "10ec5535-8fc3-44e2-bf11-f6068114b521"
      },
      "execution_count": null,
      "outputs": [
        {
          "output_type": "stream",
          "name": "stdout",
          "text": [
            "Mounted at /content/drive\n"
          ]
        }
      ]
    },
    {
      "cell_type": "code",
      "source": [
        "ruta = \"/content/drive/MyDrive/ACT_11PY\"\n",
        "sys.path.append(ruta)\n",
        "path = \"/content/drive/MyDrive/ACT_11PY\""
      ],
      "metadata": {
        "id": "31uyeY_8XBUJ"
      },
      "execution_count": null,
      "outputs": []
    },
    {
      "cell_type": "code",
      "source": [
        "def gendic():\n",
        "\n",
        "  nombres_hombres = [\"Alex\",\"Miguel\",\"Johnny\",\"Omar\",\"Daniel\",\"Kevin\",\"Marcus\",\"Bruno\",\"Jordi\",\"Alexander\",\"Juan\",\"Goku\",\"Oliver\",\"Satoru\",\"Itadori\",\"Tony\",\"Gru\",\"Jose\",\n",
        "                     \"Eduardo\",\"Raphael\",\"Valentin\",\"Cristiano\",\"Lionel\",\"Saitama\",\"Vegeta\",\"Gohan\",\"Ronaldo\",\"Franz\",\"Justin\",\"Theo\",\"Alberto\",\"Angel\",\"Sanji\",\"Zoro\"]\n",
        "  nombres_mujeres = [\"Bulma\",\"Angela\",\"Mia\",\"Julia\",\"Jaqueline\",\"Sofia\",\"Kim\",\"Aylin\",\"Camila\",\"Allison\",\"Romina\",\"Denisse\",\"Rocio\",\"Peyton\",\"Grecia\",\"Renee\",\"Alexia\",\"Camila\",\"Silvia\",\"Sara\",\"Gretel\",\"Ana\",\n",
        "                     \"Paulette\",\"Karina\",\"Julissa\",\"Antonella\",\"Dua\",\"Nuñez\",\"Adriana\",\"Andrea\",\"Anais\",\"Marla\",\"Lucia\",\"Rebeca\",\"Nami\",\"Robin\",\"Mayra\",\"Lexi\",\"Flor\"]\n",
        "  apellidos = [\"Beckenbauer\",\"Sins\",\"Elizalde\",\"Ozuna\",\"Nazario\",\"Messi\",\"Perez\",\"Ochoa\",\"Kardashian\",\"Smith\",\"Franklin\",\"Verlander\",\"Bieber\",\"Khalifa\",\"Rose\",\"Hernandez\",\"Putellas\",\"Morgan\",\"Gonzalez\",\"Lipa\",\n",
        "               \"Rashford\",\"Gojo\",\"Camacho\",\"Arreola\",\"Villa\",\"Ramirez\",\"Valdez\",\"Yepiz\",\"Mora\",\"Garcia\",\"Carrasco\",\"Monkey\",\"Carmona\",\"Alcantar\",\"Pippen\",\"Freeman\",\"Sanchez\",\"Gaucho\",\"Garnacho\",\"Shaw\",\"Maguire\"]\n",
        "  tipocont = [\"Plaza\",\"Contrato laboral temporal\",\"Contrato laboral por tiempo indefinido\",\"Contrato laboral por tiempo definido\"]\n",
        "  cargo = [\"Operador\",\"Tecnico\",\"Supervisor\",\"Ingeniero de fabricacion\",\"Ingeniero superior de fabricacion\",\"Gerente de fabricacion\",\"Director de fabrica\"]\n",
        "  id = random.randint(300000, 399999)\n",
        "  sexo = random.randint(1,100)\n",
        "  nombre = random.randint(1,100)\n",
        "  if ((sexo % 2) == 0):\n",
        "      Nombre=random.choice(nombres_hombres)\n",
        "      Sexo= \"Hombre\"\n",
        "  else:\n",
        "      Nombre=random.choice(nombres_mujeres)\n",
        "      Sexo= \"Mujer\"\n",
        "\n",
        "  ap1=random.choice(apellidos)\n",
        "  ap2=random.choice(apellidos)\n",
        "  contrato=random.choice(tipocont)\n",
        "  puesto=random.choice(cargo)\n",
        "  letra1=Nombre[0]\n",
        "  letra_lower=letra1.lower()\n",
        "  ap1_lower=ap1.lower()\n",
        "  correo=letra_lower + \"_\" + ap1_lower + \"@\" + \"gmail.com\"\n",
        "  dic={'ID':id,'Nombre':Nombre,'Apellido paterno':ap1,'Apellido materno':ap2,'Sexo':Sexo,'Contrato':contrato,'Puesto':puesto,'Contacto':correo}\n",
        "\n",
        "  return dic"
      ],
      "metadata": {
        "id": "sYUCY5tuXxwC"
      },
      "execution_count": null,
      "outputs": []
    },
    {
      "cell_type": "code",
      "source": [
        "def imprimir(dicc_list):\n",
        "    salida=pd.DataFrame(dicc_list)\n",
        "    print(salida.to_string(index=False))"
      ],
      "metadata": {
        "id": "vjE0wqPGgyaR"
      },
      "execution_count": null,
      "outputs": []
    },
    {
      "cell_type": "code",
      "source": [
        "def vali_num(ri,rf,msg):\n",
        "    salida = 1\n",
        "    while(salida == 1):\n",
        "            try:\n",
        "                n = input(f\"{msg}\")\n",
        "                n_entero = int(n)\n",
        "                if int(n):\n",
        "                    if(n_entero >= ri and n_entero <= rf):\n",
        "                        salida = 0\n",
        "                        return n_entero\n",
        "                    else:\n",
        "                        salida = 1\n",
        "            except ValueError:\n",
        "                print(\"Unicamente ingrese NUMEROS\")\n",
        "                print(\"Intenta de nuevo\")"
      ],
      "metadata": {
        "id": "4DZ61KDAX66z"
      },
      "execution_count": null,
      "outputs": []
    },
    {
      "cell_type": "code",
      "source": [
        "def validar_cadena(msg):\n",
        "\n",
        "\n",
        "    salida = 1\n",
        "    while(salida == 1):\n",
        "            try:\n",
        "                patron = \"^[a-zA-ZñÑ\\s]+$\"\n",
        "                cadena = input(msg)\n",
        "                if re.match(patron, cadena):\n",
        "                    return cadena\n",
        "                    salida = 0\n",
        "                else:\n",
        "                    salida = 1\n",
        "            except ValueError:\n",
        "                print(\"Unicamente ingrese caracteres alfanumericos\")\n",
        "                print(\"Vuelva a ingresar el apellido\")"
      ],
      "metadata": {
        "id": "bRIawk2oUFSs"
      },
      "execution_count": null,
      "outputs": []
    },
    {
      "cell_type": "code",
      "source": [
        "def busqueda(registro):\n",
        "    ubicacion = 0\n",
        "    salir = 0\n",
        "    id = vali_num(300000,399999,\"Ingrese el id \")\n",
        "    for busqueda in registro:\n",
        "        if id in busqueda.values():\n",
        "            print(f\"Se encontró el trabajador con ID'{id}'\")\n",
        "            ubicacion = busqueda\n",
        "            salir = 1\n",
        "        if salir == 1:\n",
        "            print(\"Sus datos son:\")\n",
        "            print(ubicacion)\n",
        "            return ubicacion\n",
        "            break\n",
        "    else:\n",
        "        print(f\"No encontró el trabajador con ID '{id}'\")"
      ],
      "metadata": {
        "id": "u1tdZFddX-SD"
      },
      "execution_count": null,
      "outputs": []
    },
    {
      "cell_type": "code",
      "source": [
        "def busquedaremove(registro):\n",
        "    ubicacion = 0\n",
        "    salir = 0\n",
        "    print(\"Los id van desde el 300000 hasta el 399999\")\n",
        "    id = vali_num(300000,399999,\"Ingrese el id \")\n",
        "    for busqueda in registro:\n",
        "        if id in busqueda.values():\n",
        "            print(f\"Se encontró el trabajador con ID'{id}'\")\n",
        "            ubicacion = busqueda\n",
        "            salir = 1\n",
        "        if salir == 1:\n",
        "            return ubicacion\n",
        "            break\n",
        "    else:\n",
        "        print(f\"No encontró el trabajador con ID '{id}'\")"
      ],
      "metadata": {
        "id": "NejsU9jRYnJE"
      },
      "execution_count": null,
      "outputs": []
    },
    {
      "cell_type": "code",
      "source": [
        "def removerapp(registro):\n",
        "    empleados = []\n",
        "    ubicacion = 0\n",
        "    existe = 0\n",
        "    paterno = validar_cadena(\"Ingrese el apellido paterno: \")\n",
        "    for busqueda in registro:\n",
        "        if paterno in busqueda.values():\n",
        "            empleados.append(busqueda)\n",
        "            imprimir(empleados)\n",
        "            existe = 1\n",
        "    if existe != 1:\n",
        "        print(f\"No se han encontrado coincidencias con el apellido: '{paterno}' \")"
      ],
      "metadata": {
        "id": "1X4nFmL0JGb8"
      },
      "execution_count": null,
      "outputs": []
    },
    {
      "cell_type": "code",
      "source": [
        "def ordenado(lista,clave):\n",
        "    for i in range(len(lista) // 2):\n",
        "        if lista[i][clave] > lista[len(lista) - 1 - i][clave]:\n",
        "            return False\n",
        "    return True"
      ],
      "metadata": {
        "id": "v7poTWSqYqa0"
      },
      "execution_count": null,
      "outputs": []
    },
    {
      "cell_type": "code",
      "source": [
        "def ordenar(registros):\n",
        "    clave = 'ID'\n",
        "    ordenada = ordenado(registros,clave)\n",
        "    if not ordenada:\n",
        "        registros = sorted(registros, key=lambda x: x['ID'])\n",
        "        print(\"Se han ordenado los registros en base al 'ID'.\")\n",
        "        return registros\n",
        "    else:\n",
        "        print(\"Los registros ya estaban ordenados en base a los 'ID'.\")\n",
        "        return 0"
      ],
      "metadata": {
        "id": "uLNd853-Ysf7"
      },
      "execution_count": null,
      "outputs": []
    },
    {
      "cell_type": "code",
      "source": [
        "def remover(lista_registros):\n",
        "  try:\n",
        "    if (len(lista_registros) > 0):\n",
        "        remover = busquedaremove(lista_dic)\n",
        "        lista_dic.remove(remover)\n",
        "        print(\"Se ha borrado el trabajador\")\n",
        "    else:\n",
        "      print(\"No existe empleado con ese id\")\n",
        "  except:\n",
        "    print(\"No existe ese compa\")"
      ],
      "metadata": {
        "id": "AbIkU5ISYvJT"
      },
      "execution_count": null,
      "outputs": []
    },
    {
      "cell_type": "code",
      "source": [
        "def variable_local_existe(nombre_variable):\n",
        "    return nombre_variable in locals()"
      ],
      "metadata": {
        "id": "sRYgBtEH83Hr"
      },
      "execution_count": null,
      "outputs": []
    },
    {
      "cell_type": "code",
      "source": [
        "def globales():\n",
        "    global name1\n",
        "    global name2\n",
        "    global name3\n",
        "    global name4\n",
        "    global dt_excel\n",
        "    global dt_txt\n",
        "    global dt_csv\n",
        "    global dt_markd"
      ],
      "metadata": {
        "id": "K07kATay81c0"
      },
      "execution_count": null,
      "outputs": []
    },
    {
      "cell_type": "code",
      "source": [
        "def generar_archivo(registros):\n",
        "    nombre_archivo = input(\"Ingresa el nombre con el que deseas guardar el archivo: \")\n",
        "    data = pd.DataFrame(lista_dic)\n",
        "    data.to_excel(f'/content/drive/MyDrive/ACT_11PY/{nombre_archivo}.xlsx', index=False)\n",
        "    data.to_csv(f'/content/drive/MyDrive/ACT_11PY/{nombre_archivo}.csv', index=False)\n",
        "    data.to_markdown(f'/content/drive/MyDrive/ACT_11PY/{nombre_archivo}.md', index=False)"
      ],
      "metadata": {
        "id": "3IrM0KIqZPR9"
      },
      "execution_count": null,
      "outputs": []
    },
    {
      "cell_type": "code",
      "source": [
        "def cargar_archivo(registros):\n",
        "    data = pd.DataFrame(registros)\n",
        "    path = \"/content/drive/MyDrive/ACT_11PY/prueba1.xlsx\"\n",
        "    with open(path, \"r\") as f:\n",
        "        contenido = f.read()\n",
        "    print(\"SE CARGO EL ARCHIVO CORRECTAMENTE\")\n",
        "    return contenido"
      ],
      "metadata": {
        "id": "4un1eshDZSrb"
      },
      "execution_count": null,
      "outputs": []
    },
    {
      "cell_type": "code",
      "source": [
        "def imprimir_archivo(contenido):\n",
        "    print(\"CONTENIDO DEL ARCHIVO: \")\n",
        "    print(contenido)"
      ],
      "metadata": {
        "id": "QjYLWrLrZVFz"
      },
      "execution_count": null,
      "outputs": []
    },
    {
      "cell_type": "code",
      "source": [
        "\n",
        "\n",
        "op=1\n",
        "lista_dic=[]\n",
        "while op != 0:\n",
        "  try:\n",
        "    print(\"M    E    N    U\")\n",
        "    print(\"1.- Agregar (automatico)\")\n",
        "    print(\"2.- Eliminar {ID}\")\n",
        "    print(\"3.- Imprimir lista\")\n",
        "    print(\"4.- Buscar {ID}\")\n",
        "    print(\"5.- Buscar {appat} todas las coincidencias\")\n",
        "    print(\"6.- Ordenar {ID}\")\n",
        "    print(\"7.- Generar archivo {ID}\")\n",
        "    print(\"8.- Cargar archivo {ID}\")\n",
        "    print(\"9.- Imprimir archivo {ID}\")\n",
        "    print(\"10.- Borrar Toda la lista {ID}\")\n",
        "    print(\"0.- Salir\")\n",
        "    op=int(input(\"Ingrese la opcion deseada \"))\n",
        "  except:\n",
        "    print(\"Unicamente ingrese NUMEROS\")\n",
        "    input(\"Presione ENTER \")\n",
        "    clear_output()\n",
        "\n",
        "  else:\n",
        "    if op == 1:\n",
        "      for i in range(10):\n",
        "        dic=gendic()\n",
        "        lista_dic.append(dic)\n",
        "      print(\"Se han creado exitosamente 10 registros\")\n",
        "      input(\"Presione ENTER para continuar \")\n",
        "      clear_output()\n",
        "    elif op == 2:\n",
        "      print(\"Estas seguro de borrar un registros?\")\n",
        "      print(\"1-Si\")\n",
        "      print(\"2-No\")\n",
        "      decision=vali_num(1,2,\"Elije una opcion \")\n",
        "      if decision == 1:\n",
        "        remover(lista_dic)\n",
        "        input(\"Presione ENTER para continuar \")\n",
        "        clear_output()\n",
        "      elif decision == 2:\n",
        "        print(\"Has cancelado el borrar un id\")\n",
        "        input(\"Presione ENTER para continuar \")\n",
        "        clear_output()\n",
        "    elif op == 3:\n",
        "      if lista_dic:\n",
        "        imprimir(lista_dic)\n",
        "        input(\"Presione ENTER para continuar \")\n",
        "        clear_output()\n",
        "      else:\n",
        "        print(\"No existen registros aun\")\n",
        "        input(\"Presione ENTER para continuar \")\n",
        "        clear_output()\n",
        "    elif op == 4:\n",
        "      busqueda(lista_dic)\n",
        "      input(\"Presione ENTER para continuar \")\n",
        "      clear_output()\n",
        "    elif op == 5:\n",
        "      removerapp(lista_dic)\n",
        "      input(\"Presione ENTER para continuar \")\n",
        "      clear_output()\n",
        "    elif op == 6:\n",
        "      aux = ordenar(lista_dic)\n",
        "      if aux != 0:\n",
        "        lista_dic = aux\n",
        "      input(\"Presione ENTER para continuar \")\n",
        "      clear_output()\n",
        "    elif op == 7:\n",
        "      generar_archivo(lista_dic)\n",
        "      print(\"Se ha creado exitosamente el archivo\")\n",
        "      input(\"Presione ENTER para continuar \")\n",
        "      clear_output()\n",
        "    elif op == 8:\n",
        "      cont_archivo = cargar_archivo(lista_dic)\n",
        "      input(\"Presione ENTER para continuar \")\n",
        "      clear_output()\n",
        "    elif op == 9:\n",
        "      imprimir_archivo(cont_archivo)\n",
        "      input(\"Presione ENTER para continuar \")\n",
        "      clear_output()\n",
        "    elif op == 10:\n",
        "      print(\"Estas seguro de borrar todos los registros?\")\n",
        "      print(\"1-Si\")\n",
        "      print(\"2-No\")\n",
        "      decision=vali_num(1,2,\"Elije una opcion \")\n",
        "      if decision == 1:\n",
        "        remover(lista_dic)\n",
        "        input(\"Presione ENTER para continuar \")\n",
        "        clear_output()\n",
        "      elif decision == 2:\n",
        "        print(\"Has cancelado el borrar un id\")\n",
        "        input(\"Presione ENTER para continuar \")\n",
        "        clear_output()\n",
        "    elif op == 0:\n",
        "      print(\"Has seleccionado salir, hasta luego\")\n",
        "    else:\n",
        "      print(\"Ingrese una opcion valida\")\n",
        "      input(\"Presione ENTER para continuar \")\n",
        "      clear_output()"
      ],
      "metadata": {
        "id": "9L3XF1OSftcZ",
        "colab": {
          "base_uri": "https://localhost:8080/"
        },
        "outputId": "30e0b769-db35-469f-b0b9-b97ac17ea3d7"
      },
      "execution_count": null,
      "outputs": [
        {
          "output_type": "stream",
          "name": "stdout",
          "text": [
            "M    E    N    U\n",
            "1.- Agregar (automatico)\n",
            "2.- Eliminar {ID}\n",
            "3.- Imprimir lista\n",
            "4.- Buscar {ID}\n",
            "5.- Buscar {appat} todas las coincidencias\n",
            "6.- Ordenar {ID}\n",
            "7.- Generar archivo {ID}\n",
            "8.- Cargar archivo {ID}\n",
            "9.- Imprimir archivo {ID}\n",
            "10.- Borrar Toda la lista {ID}\n",
            "0.- Salir\n",
            "Ingrese la opcion deseada 0\n",
            "Has seleccionado salir, hasta luego\n"
          ]
        }
      ]
    }
  ]
}